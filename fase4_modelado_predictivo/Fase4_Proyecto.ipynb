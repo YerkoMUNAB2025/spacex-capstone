{
 "cells": [
  {
   "cell_type": "code",
   "execution_count": 1,
   "id": "8527be05",
   "metadata": {},
   "outputs": [],
   "source": [
    "# Importar librerías necesarias\n",
    "import pandas as pd\n",
    "import numpy as np\n",
    "import matplotlib.pyplot as plt\n",
    "import seaborn as sns\n",
    "from sklearn import preprocessing\n",
    "from sklearn.model_selection import train_test_split, GridSearchCV\n",
    "from sklearn.linear_model import LogisticRegression\n",
    "from sklearn.svm import SVC\n",
    "from sklearn.tree import DecisionTreeClassifier\n",
    "from sklearn.neighbors import KNeighborsClassifier\n",
    "from sklearn.metrics import confusion_matrix, accuracy_score, classification_report\n",
    "import requests\n",
    "from io import BytesIO\n",
    "\n",
    "# Configuración de visualización\n",
    "plt.style.use('ggplot')\n",
    "sns.set_palette(\"Set2\")\n",
    "%matplotlib inline"
   ]
  },
  {
   "cell_type": "code",
   "execution_count": 2,
   "id": "037c7872",
   "metadata": {},
   "outputs": [],
   "source": [
    "def plot_confusion_matrix(y, y_predict):\n",
    "    \"\"\"Función para plotear la matriz de confusión\"\"\"\n",
    "    cm = confusion_matrix(y, y_predict)\n",
    "    ax = plt.subplot()\n",
    "    sns.heatmap(cm, annot=True, ax=ax, fmt='d', cmap='Blues')\n",
    "    ax.set_xlabel('Predicted labels')\n",
    "    ax.set_ylabel('True labels')\n",
    "    ax.set_title('Confusion Matrix')\n",
    "    ax.xaxis.set_ticklabels(['did not land', 'landed'])\n",
    "    ax.yaxis.set_ticklabels(['did not land', 'landed'])\n",
    "    plt.show()"
   ]
  },
  {
   "cell_type": "code",
   "execution_count": 3,
   "id": "25b6d3b0",
   "metadata": {},
   "outputs": [
    {
     "name": "stdout",
     "output_type": "stream",
     "text": [
      "Dataset Part 2 - Shape: (90, 18)\n",
      "Dataset Part 3 - Shape: (90, 83)\n",
      "\n",
      "Primeras filas de Dataset Part 2:\n",
      "   FlightNumber        Date BoosterVersion  PayloadMass Orbit    LaunchSite  \\\n",
      "0             1  2010-06-04       Falcon 9  6104.959412   LEO  CCAFS SLC 40   \n",
      "1             2  2012-05-22       Falcon 9   525.000000   LEO  CCAFS SLC 40   \n",
      "2             3  2013-03-01       Falcon 9   677.000000   ISS  CCAFS SLC 40   \n",
      "3             4  2013-09-29       Falcon 9   500.000000    PO   VAFB SLC 4E   \n",
      "4             5  2013-12-03       Falcon 9  3170.000000   GTO  CCAFS SLC 40   \n",
      "\n",
      "       Outcome  Flights  GridFins  Reused   Legs LandingPad  Block  \\\n",
      "0    None None        1     False   False  False        NaN    1.0   \n",
      "1    None None        1     False   False  False        NaN    1.0   \n",
      "2    None None        1     False   False  False        NaN    1.0   \n",
      "3  False Ocean        1     False   False  False        NaN    1.0   \n",
      "4    None None        1     False   False  False        NaN    1.0   \n",
      "\n",
      "   ReusedCount Serial   Longitude   Latitude  Class  \n",
      "0            0  B0003  -80.577366  28.561857      0  \n",
      "1            0  B0005  -80.577366  28.561857      0  \n",
      "2            0  B0007  -80.577366  28.561857      0  \n",
      "3            0  B1003 -120.610829  34.632093      0  \n",
      "4            0  B1004  -80.577366  28.561857      0  \n",
      "\n",
      "Primeras filas de Dataset Part 3:\n",
      "   FlightNumber  PayloadMass  Flights  Block  ReusedCount  Orbit_ES-L1  \\\n",
      "0           1.0  6104.959412      1.0    1.0          0.0          0.0   \n",
      "1           2.0   525.000000      1.0    1.0          0.0          0.0   \n",
      "2           3.0   677.000000      1.0    1.0          0.0          0.0   \n",
      "3           4.0   500.000000      1.0    1.0          0.0          0.0   \n",
      "4           5.0  3170.000000      1.0    1.0          0.0          0.0   \n",
      "\n",
      "   Orbit_GEO  Orbit_GTO  Orbit_HEO  Orbit_ISS  ...  Serial_B1058  \\\n",
      "0        0.0        0.0        0.0        0.0  ...           0.0   \n",
      "1        0.0        0.0        0.0        0.0  ...           0.0   \n",
      "2        0.0        0.0        0.0        1.0  ...           0.0   \n",
      "3        0.0        0.0        0.0        0.0  ...           0.0   \n",
      "4        0.0        1.0        0.0        0.0  ...           0.0   \n",
      "\n",
      "   Serial_B1059  Serial_B1060  Serial_B1062  GridFins_False  GridFins_True  \\\n",
      "0           0.0           0.0           0.0             1.0            0.0   \n",
      "1           0.0           0.0           0.0             1.0            0.0   \n",
      "2           0.0           0.0           0.0             1.0            0.0   \n",
      "3           0.0           0.0           0.0             1.0            0.0   \n",
      "4           0.0           0.0           0.0             1.0            0.0   \n",
      "\n",
      "   Reused_False  Reused_True  Legs_False  Legs_True  \n",
      "0           1.0          0.0         1.0        0.0  \n",
      "1           1.0          0.0         1.0        0.0  \n",
      "2           1.0          0.0         1.0        0.0  \n",
      "3           1.0          0.0         1.0        0.0  \n",
      "4           1.0          0.0         1.0        0.0  \n",
      "\n",
      "[5 rows x 83 columns]\n"
     ]
    }
   ],
   "source": [
    "# Descargar datasets\n",
    "def download_data(url):\n",
    "    response = requests.get(url)\n",
    "    return BytesIO(response.content)\n",
    "\n",
    "# URL de los datasets\n",
    "url_part_2 = \"https://cf-courses-data.s3.us.cloud-object-storage.appdomain.cloud/IBM-DS0321EN-SkillsNetwork/datasets/dataset_part_2.csv\"\n",
    "url_part_3 = \"https://cf-courses-data.s3.us.cloud-object-storage.appdomain.cloud/IBM-DS0321EN-SkillsNetwork/datasets/dataset_part_3.csv\"\n",
    "\n",
    "# Cargar datos\n",
    "data = pd.read_csv(download_data(url_part_2))\n",
    "X = pd.read_csv(download_data(url_part_3))\n",
    "\n",
    "print(\"Dataset Part 2 - Shape:\", data.shape)\n",
    "print(\"Dataset Part 3 - Shape:\", X.shape)\n",
    "print(\"\\nPrimeras filas de Dataset Part 2:\")\n",
    "print(data.head())\n",
    "print(\"\\nPrimeras filas de Dataset Part 3:\")\n",
    "print(X.head())"
   ]
  },
  {
   "cell_type": "markdown",
   "id": "64edfa0d",
   "metadata": {},
   "source": [
    "# TASK 1: Crear variable objetivo Y"
   ]
  },
  {
   "cell_type": "code",
   "execution_count": 4,
   "id": "b929a86a",
   "metadata": {},
   "outputs": [
    {
     "name": "stdout",
     "output_type": "stream",
     "text": [
      "Variable Y shape: (90,)\n",
      "Distribución de clases:\n",
      "1    60\n",
      "0    30\n",
      "Name: count, dtype: int64\n",
      "Proporción:\n",
      "1    0.666667\n",
      "0    0.333333\n",
      "Name: proportion, dtype: float64\n"
     ]
    }
   ],
   "source": [
    "Y = data['Class'].to_numpy()\n",
    "print(\"Variable Y shape:\", Y.shape)\n",
    "print(\"Distribución de clases:\")\n",
    "print(pd.Series(Y).value_counts())\n",
    "print(\"Proporción:\")\n",
    "print(pd.Series(Y).value_counts(normalize=True))"
   ]
  },
  {
   "cell_type": "markdown",
   "id": "a5f8e605",
   "metadata": {},
   "source": [
    "# TASK 2: Estandarizar los datos"
   ]
  },
  {
   "cell_type": "code",
   "execution_count": 5,
   "id": "a453bd98",
   "metadata": {},
   "outputs": [
    {
     "name": "stdout",
     "output_type": "stream",
     "text": [
      "Datos estandarizados - Shape: (90, 83)\n",
      "Media después de estandarización: [ 1.48029737e-17 -1.41861831e-16 -7.27812872e-17 -1.97372982e-17\n",
      "  5.92118946e-17 -4.81096644e-17 -2.86807615e-17 -7.40148683e-18\n",
      " -4.81096644e-17  4.68760833e-17  6.16790569e-18  0.00000000e+00\n",
      " -6.90805438e-17 -2.86807615e-17 -5.24271984e-17  1.78869265e-17\n",
      " -8.14163551e-17  2.71387850e-17  5.30439890e-17  5.30439890e-17\n",
      " -1.41861831e-17 -1.48029737e-17  6.16790569e-18  3.08395285e-18\n",
      " -4.81096644e-17 -4.81096644e-17 -4.81096644e-17 -4.81096644e-17\n",
      " -4.81096644e-17 -4.81096644e-17 -4.81096644e-17 -4.81096644e-17\n",
      " -4.81096644e-17 -4.81096644e-17 -4.81096644e-17 -4.81096644e-17\n",
      " -4.81096644e-17 -4.81096644e-17 -4.81096644e-17 -4.81096644e-17\n",
      " -4.81096644e-17 -4.81096644e-17 -4.81096644e-17 -3.70074342e-18\n",
      " -4.81096644e-17 -4.81096644e-17 -4.81096644e-17 -4.81096644e-17\n",
      " -4.81096644e-17  5.55111512e-18 -4.81096644e-17  5.55111512e-18\n",
      "  5.55111512e-18 -4.81096644e-17  5.55111512e-18  5.55111512e-18\n",
      " -4.81096644e-17 -4.81096644e-17  5.55111512e-18  5.55111512e-18\n",
      " -7.33980777e-17 -4.81096644e-17 -4.81096644e-17 -4.81096644e-17\n",
      "  5.55111512e-18  3.45402719e-17  4.93432455e-18  5.48943607e-17\n",
      "  5.67447324e-17 -4.81096644e-17 -6.22958475e-17 -4.81096644e-17\n",
      "  3.51570624e-17 -1.97372982e-17  3.51570624e-17 -2.22044605e-17\n",
      " -1.97372982e-17  7.64820306e-17 -7.64820306e-17  3.70074342e-18\n",
      " -3.70074342e-18 -2.22044605e-17  2.22044605e-17]\n",
      "Desviación estándar después de estandarización: [1. 1. 1. 1. 1. 1. 1. 1. 1. 1. 1. 1. 1. 1. 1. 1. 1. 1. 1. 1. 1. 1. 1. 1.\n",
      " 1. 1. 1. 1. 1. 1. 1. 1. 1. 1. 1. 1. 1. 1. 1. 1. 1. 1. 1. 1. 1. 1. 1. 1.\n",
      " 1. 1. 1. 1. 1. 1. 1. 1. 1. 1. 1. 1. 1. 1. 1. 1. 1. 1. 1. 1. 1. 1. 1. 1.\n",
      " 1. 1. 1. 1. 1. 1. 1. 1. 1. 1. 1.]\n"
     ]
    }
   ],
   "source": [
    "# Estandarizar las características\n",
    "transform = preprocessing.StandardScaler()\n",
    "X_scaled = transform.fit_transform(X)\n",
    "\n",
    "print(\"Datos estandarizados - Shape:\", X_scaled.shape)\n",
    "print(\"Media después de estandarización:\", np.mean(X_scaled, axis=0))\n",
    "print(\"Desviación estándar después de estandarización:\", np.std(X_scaled, axis=0))"
   ]
  },
  {
   "cell_type": "markdown",
   "id": "d90ed673",
   "metadata": {},
   "source": [
    "# TASK 3: Dividir datos en entrenamiento y prueba"
   ]
  },
  {
   "cell_type": "code",
   "execution_count": 6,
   "id": "bbb966cb",
   "metadata": {},
   "outputs": [
    {
     "name": "stdout",
     "output_type": "stream",
     "text": [
      "Conjunto de entrenamiento: X_train=(72, 83), Y_train=(72,)\n",
      "Conjunto de prueba: X_test=(18, 83), Y_test=(18,)\n",
      "Proporción de clases en entrenamiento: [0.33333333 0.66666667]\n",
      "Proporción de clases en prueba: [0.33333333 0.66666667]\n"
     ]
    }
   ],
   "source": [
    "X_train, X_test, Y_train, Y_test = train_test_split(X_scaled, Y, test_size=0.2, random_state=2)\n",
    "\n",
    "print(f\"Conjunto de entrenamiento: X_train={X_train.shape}, Y_train={Y_train.shape}\")\n",
    "print(f\"Conjunto de prueba: X_test={X_test.shape}, Y_test={Y_test.shape}\")\n",
    "print(f\"Proporción de clases en entrenamiento: {np.bincount(Y_train)/len(Y_train)}\")\n",
    "print(f\"Proporción de clases en prueba: {np.bincount(Y_test)/len(Y_test)}\")"
   ]
  },
  {
   "cell_type": "markdown",
   "id": "13060f02",
   "metadata": {},
   "source": [
    "# TASK 4: Regresión Logística con GridSearchCV\n"
   ]
  },
  {
   "cell_type": "code",
   "execution_count": 7,
   "id": "d5c8469d",
   "metadata": {},
   "outputs": [
    {
     "name": "stdout",
     "output_type": "stream",
     "text": [
      "Mejores parámetros para Regresión Logística: {'C': 0.01, 'penalty': 'l2', 'solver': 'lbfgs'}\n",
      "Mejor score de validación cruzada: 0.8464285714285713\n"
     ]
    }
   ],
   "source": [
    "# Definir parámetros para GridSearch\n",
    "parameters_lr = {\n",
    "    'C': [0.01, 0.1, 1],\n",
    "    'penalty': ['l2'],\n",
    "    'solver': ['lbfgs']\n",
    "}\n",
    "\n",
    "# Crear y entrenar el modelo\n",
    "lr = LogisticRegression(random_state=2, max_iter=1000)\n",
    "logreg_cv = GridSearchCV(lr, parameters_lr, cv=10, scoring='accuracy', n_jobs=-1)\n",
    "logreg_cv.fit(X_train, Y_train)\n",
    "\n",
    "print(\"Mejores parámetros para Regresión Logística:\", logreg_cv.best_params_)\n",
    "print(\"Mejor score de validación cruzada:\", logreg_cv.best_score_)"
   ]
  },
  {
   "cell_type": "markdown",
   "id": "50136d94",
   "metadata": {},
   "source": [
    "# TASK 5: Evaluar Regresión Logística en test"
   ]
  },
  {
   "cell_type": "code",
   "execution_count": 8,
   "id": "8f76439a",
   "metadata": {},
   "outputs": [
    {
     "name": "stdout",
     "output_type": "stream",
     "text": [
      "Precisión de Regresión Logística en test: 0.8333\n",
      "\n",
      "Matriz de Confusión - Regresión Logística:\n"
     ]
    },
    {
     "data": {
      "image/png": "[encoded data removed]",
      "text/plain": [
       "<Figure size 640x480 with 2 Axes>"
      ]
     },
     "metadata": {},
     "output_type": "display_data"
    },
    {
     "name": "stdout",
     "output_type": "stream",
     "text": [
      "\n",
      "Reporte de Clasificación - Regresión Logística:\n",
      "              precision    recall  f1-score   support\n",
      "\n",
      " No aterrizó       1.00      0.50      0.67         6\n",
      "    Aterrizó       0.80      1.00      0.89        12\n",
      "\n",
      "    accuracy                           0.83        18\n",
      "   macro avg       0.90      0.75      0.78        18\n",
      "weighted avg       0.87      0.83      0.81        18\n",
      "\n"
     ]
    }
   ],
   "source": [
    "# Precisión en test\n",
    "lr_test_accuracy = logreg_cv.score(X_test, Y_test)\n",
    "print(f\"Precisión de Regresión Logística en test: {lr_test_accuracy:.4f}\")\n",
    "\n",
    "# Matriz de confusión\n",
    "yhat_lr = logreg_cv.predict(X_test)\n",
    "print(\"\\nMatriz de Confusión - Regresión Logística:\")\n",
    "plot_confusion_matrix(Y_test, yhat_lr)\n",
    "\n",
    "# Reporte de clasificación\n",
    "print(\"\\nReporte de Clasificación - Regresión Logística:\")\n",
    "print(classification_report(Y_test, yhat_lr, target_names=['No aterrizó', 'Aterrizó']))"
   ]
  },
  {
   "cell_type": "markdown",
   "id": "ff7daeda",
   "metadata": {},
   "source": [
    "# TASK 6: SVM con GridSearchCV"
   ]
  },
  {
   "cell_type": "code",
   "execution_count": 9,
   "id": "2b855501",
   "metadata": {},
   "outputs": [
    {
     "name": "stdout",
     "output_type": "stream",
     "text": [
      "Mejores parámetros para SVM: {'C': np.float64(1.0), 'gamma': np.float64(0.03162277660168379), 'kernel': 'sigmoid'}\n",
      "Mejor score de validación cruzada: 0.8482142857142856\n"
     ]
    }
   ],
   "source": [
    "# Definir parámetros para SVM\n",
    "parameters_svm = {\n",
    "    'kernel': ['linear', 'rbf', 'poly', 'sigmoid'],\n",
    "    'C': np.logspace(-3, 3, 5),\n",
    "    'gamma': np.logspace(-3, 3, 5)\n",
    "}\n",
    "\n",
    "# Crear y entrenar el modelo SVM\n",
    "svm = SVC(random_state=2)\n",
    "svm_cv = GridSearchCV(svm, parameters_svm, cv=10, scoring='accuracy', n_jobs=-1)\n",
    "svm_cv.fit(X_train, Y_train)\n",
    "\n",
    "print(\"Mejores parámetros para SVM:\", svm_cv.best_params_)\n",
    "print(\"Mejor score de validación cruzada:\", svm_cv.best_score_)"
   ]
  },
  {
   "cell_type": "markdown",
   "id": "71cac4eb",
   "metadata": {},
   "source": [
    "# TASK 7: Evaluar SVM en test\n"
   ]
  },
  {
   "cell_type": "code",
   "execution_count": 10,
   "id": "838f451d",
   "metadata": {},
   "outputs": [
    {
     "name": "stdout",
     "output_type": "stream",
     "text": [
      "Precisión de SVM en test: 0.8333\n",
      "\n",
      "Matriz de Confusión - SVM:\n"
     ]
    },
    {
     "data": {
      "image/png": "[encoded data removed]",
      "text/plain": [
       "<Figure size 640x480 with 2 Axes>"
      ]
     },
     "metadata": {},
     "output_type": "display_data"
    },
    {
     "name": "stdout",
     "output_type": "stream",
     "text": [
      "\n",
      "Reporte de Clasificación - SVM:\n",
      "              precision    recall  f1-score   support\n",
      "\n",
      " No aterrizó       1.00      0.50      0.67         6\n",
      "    Aterrizó       0.80      1.00      0.89        12\n",
      "\n",
      "    accuracy                           0.83        18\n",
      "   macro avg       0.90      0.75      0.78        18\n",
      "weighted avg       0.87      0.83      0.81        18\n",
      "\n"
     ]
    }
   ],
   "source": [
    "# Precisión en test\n",
    "svm_test_accuracy = svm_cv.score(X_test, Y_test)\n",
    "print(f\"Precisión de SVM en test: {svm_test_accuracy:.4f}\")\n",
    "\n",
    "# Matriz de confusión\n",
    "yhat_svm = svm_cv.predict(X_test)\n",
    "print(\"\\nMatriz de Confusión - SVM:\")\n",
    "plot_confusion_matrix(Y_test, yhat_svm)\n",
    "\n",
    "# Reporte de clasificación\n",
    "print(\"\\nReporte de Clasificación - SVM:\")\n",
    "print(classification_report(Y_test, yhat_svm, target_names=['No aterrizó', 'Aterrizó']))"
   ]
  },
  {
   "cell_type": "markdown",
   "id": "b1152e6e",
   "metadata": {},
   "source": [
    "# TASK 8: Árbol de Decisión con GridSearchCV"
   ]
  },
  {
   "cell_type": "code",
   "execution_count": 11,
   "id": "89f4d4ea",
   "metadata": {},
   "outputs": [
    {
     "name": "stdout",
     "output_type": "stream",
     "text": [
      "Mejores parámetros para Árbol de Decisión: {'criterion': 'gini', 'max_depth': 4, 'min_samples_leaf': 4, 'min_samples_split': 2, 'splitter': 'best'}\n",
      "Mejor score de validación cruzada: 0.8714285714285713\n"
     ]
    }
   ],
   "source": [
    "# Definir parámetros para Árbol de Decisión\n",
    "parameters_tree = {\n",
    "    'criterion': ['gini', 'entropy'],\n",
    "    'splitter': ['best', 'random'],\n",
    "    'max_depth': [2, 4, 6, 8, 10, 12, 14, 16, 18],\n",
    "    'min_samples_split': [2, 5, 10],\n",
    "    'min_samples_leaf': [1, 2, 4]\n",
    "}\n",
    "\n",
    "# Crear y entrenar el modelo\n",
    "tree = DecisionTreeClassifier(random_state=2)\n",
    "tree_cv = GridSearchCV(tree, parameters_tree, cv=10, scoring='accuracy', n_jobs=-1)\n",
    "tree_cv.fit(X_train, Y_train)\n",
    "\n",
    "print(\"Mejores parámetros para Árbol de Decisión:\", tree_cv.best_params_)\n",
    "print(\"Mejor score de validación cruzada:\", tree_cv.best_score_)"
   ]
  },
  {
   "cell_type": "markdown",
   "id": "d396c35e",
   "metadata": {},
   "source": [
    "# TASK 9: Evaluar Árbol de Decisión en test"
   ]
  },
  {
   "cell_type": "code",
   "execution_count": 12,
   "id": "e9f5e207",
   "metadata": {},
   "outputs": [
    {
     "name": "stdout",
     "output_type": "stream",
     "text": [
      "Precisión de Árbol de Decisión en test: 0.7778\n",
      "\n",
      "Matriz de Confusión - Árbol de Decisión:\n"
     ]
    },
    {
     "data": {
      "image/png": "[encoded data removed]",
      "text/plain": [
       "<Figure size 640x480 with 2 Axes>"
      ]
     },
     "metadata": {},
     "output_type": "display_data"
    },
    {
     "name": "stdout",
     "output_type": "stream",
     "text": [
      "\n",
      "Reporte de Clasificación - Árbol de Decisión:\n",
      "              precision    recall  f1-score   support\n",
      "\n",
      " No aterrizó       0.75      0.50      0.60         6\n",
      "    Aterrizó       0.79      0.92      0.85        12\n",
      "\n",
      "    accuracy                           0.78        18\n",
      "   macro avg       0.77      0.71      0.72        18\n",
      "weighted avg       0.77      0.78      0.76        18\n",
      "\n"
     ]
    }
   ],
   "source": [
    "# Precisión en test\n",
    "tree_test_accuracy = tree_cv.score(X_test, Y_test)\n",
    "print(f\"Precisión de Árbol de Decisión en test: {tree_test_accuracy:.4f}\")\n",
    "\n",
    "# Matriz de confusión\n",
    "yhat_tree = tree_cv.predict(X_test)\n",
    "print(\"\\nMatriz de Confusión - Árbol de Decisión:\")\n",
    "plot_confusion_matrix(Y_test, yhat_tree)\n",
    "\n",
    "# Reporte de clasificación\n",
    "print(\"\\nReporte de Clasificación - Árbol de Decisión:\")\n",
    "print(classification_report(Y_test, yhat_tree, target_names=['No aterrizó', 'Aterrizó']))"
   ]
  },
  {
   "cell_type": "markdown",
   "id": "d0e91f0b",
   "metadata": {},
   "source": [
    "# TASK 10: KNN con GridSearchCV\n"
   ]
  },
  {
   "cell_type": "code",
   "execution_count": 13,
   "id": "4aa0105d",
   "metadata": {},
   "outputs": [
    {
     "name": "stdout",
     "output_type": "stream",
     "text": [
      "Mejores parámetros para KNN: {'algorithm': 'auto', 'n_neighbors': 10, 'p': 1}\n",
      "Mejor score de validación cruzada: 0.8482142857142858\n"
     ]
    }
   ],
   "source": [
    "# Definir parámetros para KNN\n",
    "parameters_knn = {\n",
    "    'n_neighbors': [1, 2, 3, 4, 5, 6, 7, 8, 9, 10],\n",
    "    'algorithm': ['auto', 'ball_tree', 'kd_tree', 'brute'],\n",
    "    'p': [1, 2]\n",
    "}\n",
    "\n",
    "# Crear y entrenar el modelo\n",
    "knn = KNeighborsClassifier()\n",
    "knn_cv = GridSearchCV(knn, parameters_knn, cv=10, scoring='accuracy', n_jobs=-1)\n",
    "knn_cv.fit(X_train, Y_train)\n",
    "\n",
    "print(\"Mejores parámetros para KNN:\", knn_cv.best_params_)\n",
    "print(\"Mejor score de validación cruzada:\", knn_cv.best_score_)"
   ]
  },
  {
   "cell_type": "markdown",
   "id": "0474d75d",
   "metadata": {},
   "source": [
    "# TASK 11: Evaluar KNN en test"
   ]
  },
  {
   "cell_type": "code",
   "execution_count": 14,
   "id": "13102309",
   "metadata": {},
   "outputs": [
    {
     "name": "stdout",
     "output_type": "stream",
     "text": [
      "Precisión de KNN en test: 0.8333\n",
      "\n",
      "Matriz de Confusión - KNN:\n"
     ]
    },
    {
     "data": {
      "image/png": "[encoded data removed]",
      "text/plain": [
       "<Figure size 640x480 with 2 Axes>"
      ]
     },
     "metadata": {},
     "output_type": "display_data"
    },
    {
     "name": "stdout",
     "output_type": "stream",
     "text": [
      "\n",
      "Reporte de Clasificación - KNN:\n",
      "              precision    recall  f1-score   support\n",
      "\n",
      " No aterrizó       1.00      0.50      0.67         6\n",
      "    Aterrizó       0.80      1.00      0.89        12\n",
      "\n",
      "    accuracy                           0.83        18\n",
      "   macro avg       0.90      0.75      0.78        18\n",
      "weighted avg       0.87      0.83      0.81        18\n",
      "\n"
     ]
    }
   ],
   "source": [
    "# Precisión en test\n",
    "knn_test_accuracy = knn_cv.score(X_test, Y_test)\n",
    "print(f\"Precisión de KNN en test: {knn_test_accuracy:.4f}\")\n",
    "\n",
    "# Matriz de confusión\n",
    "yhat_knn = knn_cv.predict(X_test)\n",
    "print(\"\\nMatriz de Confusión - KNN:\")\n",
    "plot_confusion_matrix(Y_test, yhat_knn)\n",
    "\n",
    "# Reporte de clasificación\n",
    "print(\"\\nReporte de Clasificación - KNN:\")\n",
    "print(classification_report(Y_test, yhat_knn, target_names=['No aterrizó', 'Aterrizó']))"
   ]
  },
  {
   "cell_type": "markdown",
   "id": "5cf25878",
   "metadata": {},
   "source": [
    "# TASK 12: Comparación de modelos"
   ]
  },
  {
   "cell_type": "code",
   "execution_count": 15,
   "id": "45a93895",
   "metadata": {},
   "outputs": [
    {
     "name": "stdout",
     "output_type": "stream",
     "text": [
      "COMPARACIÓN DE MODELOS:\n",
      "==================================================\n",
      "             Modelo  Mejor Score CV  Precisión Test                                                                                       Mejores Parámetros\n",
      "Regresión Logística        0.846429        0.833333                                                          {'C': 0.01, 'penalty': 'l2', 'solver': 'lbfgs'}\n",
      "                SVM        0.848214        0.833333                                            {'C': 1.0, 'gamma': 0.03162277660168379, 'kernel': 'sigmoid'}\n",
      "                KNN        0.848214        0.833333                                                         {'algorithm': 'auto', 'n_neighbors': 10, 'p': 1}\n",
      "  Árbol de Decisión        0.871429        0.777778 {'criterion': 'gini', 'max_depth': 4, 'min_samples_leaf': 4, 'min_samples_split': 2, 'splitter': 'best'}\n"
     ]
    },
    {
     "data": {
      "image/png": "[encoded data removed]",
      "text/plain": [
       "<Figure size 1200x600 with 2 Axes>"
      ]
     },
     "metadata": {},
     "output_type": "display_data"
    },
    {
     "name": "stdout",
     "output_type": "stream",
     "text": [
      "\n",
      "MEJOR MODELO: Regresión Logística\n",
      "Precisión en Test: 0.8333\n",
      "Parámetros: {'C': 0.01, 'penalty': 'l2', 'solver': 'lbfgs'}\n"
     ]
    }
   ],
   "source": [
    "# Crear DataFrame con resultados\n",
    "results = pd.DataFrame({\n",
    "    'Modelo': ['Regresión Logística', 'SVM', 'Árbol de Decisión', 'KNN'],\n",
    "    'Mejor Score CV': [\n",
    "        logreg_cv.best_score_,\n",
    "        svm_cv.best_score_,\n",
    "        tree_cv.best_score_,\n",
    "        knn_cv.best_score_\n",
    "    ],\n",
    "    'Precisión Test': [\n",
    "        lr_test_accuracy,\n",
    "        svm_test_accuracy,\n",
    "        tree_test_accuracy,\n",
    "        knn_test_accuracy\n",
    "    ],\n",
    "    'Mejores Parámetros': [\n",
    "        logreg_cv.best_params_,\n",
    "        svm_cv.best_params_,\n",
    "        tree_cv.best_params_,\n",
    "        knn_cv.best_params_\n",
    "    ]\n",
    "})\n",
    "\n",
    "# Ordenar por precisión en test\n",
    "results = results.sort_values('Precisión Test', ascending=False)\n",
    "\n",
    "print(\"COMPARACIÓN DE MODELOS:\")\n",
    "print(\"=\" * 50)\n",
    "print(results.to_string(index=False))\n",
    "\n",
    "# Visualización comparativa\n",
    "plt.figure(figsize=(12, 6))\n",
    "\n",
    "# Gráfico de barras para comparar accuracy\n",
    "plt.subplot(1, 2, 1)\n",
    "bars = plt.bar(results['Modelo'], results['Precisión Test'], color=['blue', 'green', 'red', 'orange'])\n",
    "plt.title('Comparación de Precisión en Test')\n",
    "plt.ylabel('Precisión')\n",
    "plt.xticks(rotation=45)\n",
    "plt.ylim(0, 1)\n",
    "\n",
    "# Añadir valores en las barras\n",
    "for bar, value in zip(bars, results['Precisión Test']):\n",
    "    plt.text(bar.get_x() + bar.get_width()/2, bar.get_height() + 0.01, \n",
    "             f'{value:.3f}', ha='center', va='bottom')\n",
    "\n",
    "# Gráfico de comparación entre CV score y Test score\n",
    "plt.subplot(1, 2, 2)\n",
    "x_pos = np.arange(len(results['Modelo']))\n",
    "width = 0.35\n",
    "\n",
    "plt.bar(x_pos - width/2, results['Mejor Score CV'], width, label='CV Score', alpha=0.7)\n",
    "plt.bar(x_pos + width/2, results['Precisión Test'], width, label='Test Score', alpha=0.7)\n",
    "\n",
    "plt.xlabel('Modelo')\n",
    "plt.ylabel('Precisión')\n",
    "plt.title('Comparación: CV Score vs Test Score')\n",
    "plt.xticks(x_pos, results['Modelo'], rotation=45)\n",
    "plt.legend()\n",
    "plt.tight_layout()\n",
    "plt.show()\n",
    "\n",
    "# Identificar el mejor modelo\n",
    "best_model = results.iloc[0]\n",
    "print(f\"\\nMEJOR MODELO: {best_model['Modelo']}\")\n",
    "print(f\"Precisión en Test: {best_model['Precisión Test']:.4f}\")\n",
    "print(f\"Parámetros: {best_model['Mejores Parámetros']}\")"
   ]
  },
  {
   "cell_type": "markdown",
   "id": "6fbe7875",
   "metadata": {},
   "source": [
    "# Análisis de Resultados y Conclusiones\n"
   ]
  },
  {
   "cell_type": "code",
   "execution_count": 16,
   "id": "f0483838",
   "metadata": {},
   "outputs": [
    {
     "name": "stdout",
     "output_type": "stream",
     "text": [
      "============================================================\n",
      "ANÁLISIS DE RESULTADOS Y CONCLUSIONES\n",
      "============================================================\n",
      "1. COMPARACIÓN DE RENDIMIENTO:\n",
      "   - Regresión Logística: Test Accuracy = 0.833\n",
      "   - SVM: Test Accuracy = 0.833\n",
      "   - KNN: Test Accuracy = 0.833\n",
      "   - Árbol de Decisión: Test Accuracy = 0.778\n",
      "\n",
      "2. MEJOR MODELO:\n",
      "   El mejor modelo es Regresión Logística con una precisión de 0.833\n",
      "\n",
      "3. OBSERVACIONES:\n",
      "   - La diferencia entre el score de validación cruzada y el test score indica\n",
      "     qué tan bien generaliza cada modelo\n",
      "   - Un buen modelo debería tener scores similares en CV y Test\n",
      "   - La matriz de confusión muestra el tipo de errores que comete cada modelo\n",
      "\n",
      "4. IMPLICACIONES PARA SPACEX:\n",
      "   - Un modelo preciso puede ayudar a predecir el éxito del aterrizaje\n",
      "   - Esto es crucial para la reutilización de cohetes y reducción de costos\n",
      "   - Los falsos positivos (predecir aterrizaje cuando no ocurre) pueden ser costosos\n",
      "   - Los falsos negativos (predecir fallo cuando aterriza) son menos críticos\n",
      "\n",
      "5. RECOMENDACIONES:\n",
      "   - Utilizar el mejor modelo para predicciones futuras\n",
      "   - Monitorear continuamente el rendimiento del modelo\n",
      "   - Considerar la incorporación de más características relevantes\n",
      "   - Implementar un sistema de monitoreo de drift de datos\n"
     ]
    }
   ],
   "source": [
    "print(\"=\" * 60)\n",
    "print(\"ANÁLISIS DE RESULTADOS Y CONCLUSIONES\")\n",
    "print(\"=\" * 60)\n",
    "\n",
    "print(\"1. COMPARACIÓN DE RENDIMIENTO:\")\n",
    "for _, row in results.iterrows():\n",
    "    print(f\"   - {row['Modelo']}: Test Accuracy = {row['Precisión Test']:.3f}\")\n",
    "\n",
    "print(\"\\n2. MEJOR MODELO:\")\n",
    "print(f\"   El mejor modelo es {best_model['Modelo']} con una precisión de {best_model['Precisión Test']:.3f}\")\n",
    "\n",
    "print(\"\\n3. OBSERVACIONES:\")\n",
    "print(\"   - La diferencia entre el score de validación cruzada y el test score indica\")\n",
    "print(\"     qué tan bien generaliza cada modelo\")\n",
    "print(\"   - Un buen modelo debería tener scores similares en CV y Test\")\n",
    "print(\"   - La matriz de confusión muestra el tipo de errores que comete cada modelo\")\n",
    "\n",
    "print(\"\\n4. IMPLICACIONES PARA SPACEX:\")\n",
    "print(\"   - Un modelo preciso puede ayudar a predecir el éxito del aterrizaje\")\n",
    "print(\"   - Esto es crucial para la reutilización de cohetes y reducción de costos\")\n",
    "print(\"   - Los falsos positivos (predecir aterrizaje cuando no ocurre) pueden ser costosos\")\n",
    "print(\"   - Los falsos negativos (predecir fallo cuando aterriza) son menos críticos\")\n",
    "\n",
    "print(\"\\n5. RECOMENDACIONES:\")\n",
    "print(\"   - Utilizar el mejor modelo para predicciones futuras\")\n",
    "print(\"   - Monitorear continuamente el rendimiento del modelo\")\n",
    "print(\"   - Considerar la incorporación de más características relevantes\")\n",
    "print(\"   - Implementar un sistema de monitoreo de drift de datos\")"
   ]
  }
 ],
 "metadata": {
  "kernelspec": {
   "display_name": "Python 3",
   "language": "python",
   "name": "python3"
  },
  "language_info": {
   "codemirror_mode": {
    "name": "ipython",
    "version": 3
   },
   "file_extension": ".py",
   "mimetype": "text/x-python",
   "name": "python",
   "nbconvert_exporter": "python",
   "pygments_lexer": "ipython3",
   "version": "3.11.5"
  }
 },
 "nbformat": 4,
 "nbformat_minor": 5
}
