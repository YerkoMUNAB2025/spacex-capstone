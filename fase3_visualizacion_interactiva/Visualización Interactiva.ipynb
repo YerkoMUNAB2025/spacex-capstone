{
 "cells": [
  {
   "cell_type": "code",
   "execution_count": 2,
   "id": "7c091e7c",
   "metadata": {},
   "outputs": [],
   "source": [
    "import folium\n",
    "from folium.plugins import MarkerCluster\n",
    "import pandas as pd\n",
    "\n",
    "# Cargar dataset limpio\n",
    "df = pd.read_csv('../fase1_ingenieria_datos_src/spacex_launches_clean_v2.csv')\n",
    "\n",
    "# Diccionario de coordenadas (ejemplo para los launchpads más usados)\n",
    "launch_sites = {\n",
    "    \"CCAFS SLC 40\": [28.5618571, -80.577366],\n",
    "    \"KSC LC 39A\": [28.573255, -80.646895],\n",
    "    \"VAFB SLC 4E\": [34.632093, -120.610829],\n",
    "    \"CCAFS LC 40\": [28.562302, -80.577356]\n",
    "}\n",
    "\n",
    "# Crear mapa centrado en Florida\n",
    "m = folium.Map(location=[28.5, -80.5], zoom_start=4)\n",
    "\n",
    "# Cluster de marcadores\n",
    "mc = MarkerCluster().add_to(m)\n",
    "\n",
    "# Agregar marcadores\n",
    "for site, coords in launch_sites.items():\n",
    "    folium.Marker(location=coords,\n",
    "                  popup=f\"Launch Site: {site}\",\n",
    "                  icon=folium.Icon(color=\"blue\", icon=\"rocket\", prefix='fa')).add_to(mc)\n",
    "\n",
    "# Guardar\n",
    "m.save(\"spacex_launch_sites.html\")\n"
   ]
  }
 ],
 "metadata": {
  "kernelspec": {
   "display_name": "Python 3",
   "language": "python",
   "name": "python3"
  },
  "language_info": {
   "codemirror_mode": {
    "name": "ipython",
    "version": 3
   },
   "file_extension": ".py",
   "mimetype": "text/x-python",
   "name": "python",
   "nbconvert_exporter": "python",
   "pygments_lexer": "ipython3",
   "version": "3.11.5"
  }
 },
 "nbformat": 4,
 "nbformat_minor": 5
}
