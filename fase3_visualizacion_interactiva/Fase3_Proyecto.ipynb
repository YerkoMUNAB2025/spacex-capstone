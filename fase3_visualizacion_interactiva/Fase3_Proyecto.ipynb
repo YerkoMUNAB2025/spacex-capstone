{
 "cells": [
  {
   "cell_type": "code",
   "execution_count": 2,
   "id": "d091e7ab",
   "metadata": {},
   "outputs": [],
   "source": [
    "# Importar paquetes necesarios\n",
    "import folium\n",
    "import pandas as pd\n",
    "import requests\n",
    "from io import BytesIO\n",
    "from folium.plugins import MarkerCluster, MousePosition\n",
    "from folium.features import DivIcon\n",
    "from math import sin, cos, sqrt, atan2, radians\n"
   ]
  },
  {
   "cell_type": "code",
   "execution_count": 3,
   "id": "7702c40a",
   "metadata": {},
   "outputs": [],
   "source": [
    "# Descargar y leer el conjunto de datos usando requests\n",
    "URL = 'https://cf-courses-data.s3.us.cloud-object-storage.appdomain.cloud/IBM-DS0321EN-SkillsNetwork/datasets/spacex_launch_geo.csv'\n",
    "response = requests.get(URL)\n",
    "spacex_csv_file = BytesIO(response.content)\n",
    "spacex_df = pd.read_csv(spacex_csv_file)"
   ]
  },
  {
   "cell_type": "code",
   "execution_count": 4,
   "id": "53a68758",
   "metadata": {},
   "outputs": [],
   "source": [
    "# Seleccionar columnas relevantes\n",
    "spacex_df = spacex_df[['Launch Site', 'Lat', 'Long', 'class']]\n",
    "launch_sites_df = spacex_df.groupby(['Launch Site'], as_index=False).first()\n",
    "launch_sites_df = launch_sites_df[['Launch Site', 'Lat', 'Long']]\n",
    "\n",
    "# Ubicación inicial es el Centro Espacial Johnson de la NASA\n",
    "nasa_coordinate = [29.559684888503615, -95.0830971930759]\n",
    "site_map = folium.Map(location=nasa_coordinate, zoom_start=5)\n"
   ]
  },
  {
   "cell_type": "markdown",
   "id": "8c5811a0",
   "metadata": {},
   "source": [
    "# Tarea 1: Para cada sitio de lanzamiento, agregar un Círculo y un Marcador"
   ]
  },
  {
   "cell_type": "code",
   "execution_count": 5,
   "id": "5791770c",
   "metadata": {},
   "outputs": [],
   "source": [
    "# Tarea 1: Para cada sitio de lanzamiento, agregar un Círculo y un Marcador\n",
    "for index, site in launch_sites_df.iterrows():\n",
    "    circle = folium.Circle(\n",
    "        [site['Lat'], site['Long']],\n",
    "        radius=1000,\n",
    "        color='#000000',\n",
    "        fill=True\n",
    "    ).add_child(folium.Popup(site['Launch Site']))\n",
    "    \n",
    "    marker = folium.Marker(\n",
    "        [site['Lat'], site['Long']],\n",
    "        icon=DivIcon(\n",
    "            icon_size=(20,20),\n",
    "            icon_anchor=(0,0),\n",
    "            html=f'<div style=\"font-size: 12; color:#d35400;\"><b>{site[\"Launch Site\"]}</b></div>'\n",
    "        )\n",
    "    )\n",
    "    \n",
    "    site_map.add_child(circle)\n",
    "    site_map.add_child(marker)\n"
   ]
  },
  {
   "cell_type": "code",
   "execution_count": 6,
   "id": "09c0eecb",
   "metadata": {},
   "outputs": [],
   "source": [
    "# Guardar el mapa para la Tarea 1\n",
    "site_map.save('task1_launch_sites.html')"
   ]
  },
  {
   "cell_type": "markdown",
   "id": "9890b619",
   "metadata": {},
   "source": [
    "# Tarea 2: Marcar los lanzamientos exitosos/fallidos para cada sitio"
   ]
  },
  {
   "cell_type": "code",
   "execution_count": 7,
   "id": "9dd7bea8",
   "metadata": {},
   "outputs": [],
   "source": [
    "# Tarea 2: Marcar los lanzamientos exitosos/fallidos para cada sitio\n",
    "spacex_df['marker_color'] = spacex_df['class'].apply(lambda x: 'green' if x == 1 else 'red')\n",
    "\n",
    "marker_cluster = MarkerCluster()\n",
    "site_map.add_child(marker_cluster)\n",
    "\n",
    "for index, record in spacex_df.iterrows():\n",
    "    marker = folium.Marker(\n",
    "        location=[record['Lat'], record['Long']],\n",
    "        icon=folium.Icon(color='white', icon_color=record['marker_color']),\n",
    "        popup=f\"Sitio de Lanzamiento: {record['Launch Site']}<br>Resultado: {'Éxito' if record['class'] == 1 else 'Fallo'}\"\n",
    "    )\n",
    "    marker_cluster.add_child(marker)\n"
   ]
  },
  {
   "cell_type": "code",
   "execution_count": 8,
   "id": "47f02eb7",
   "metadata": {},
   "outputs": [],
   "source": [
    "# Guardar el mapa para la Tarea 2\n",
    "site_map.save('task2_launch_outcomes.html')"
   ]
  },
  {
   "cell_type": "markdown",
   "id": "b5cd90fb",
   "metadata": {},
   "source": [
    "# Tarea 3: Calcular distancias entre sitios de lanzamiento y sus proximidades"
   ]
  },
  {
   "cell_type": "code",
   "execution_count": 9,
   "id": "7130c367",
   "metadata": {},
   "outputs": [],
   "source": [
    "# Función para calcular distancia entre dos coordenadas\n",
    "def calculate_distance(lat1, lon1, lat2, lon2):\n",
    "    # radio aproximado de la tierra en km\n",
    "    R = 6373.0\n",
    "\n",
    "    lat1 = radians(lat1)\n",
    "    lon1 = radians(lon1)\n",
    "    lat2 = radians(lat2)\n",
    "    lon2 = radians(lon2)\n",
    "\n",
    "    dlon = lon2 - lon1\n",
    "    dlat = lat2 - lat1\n",
    "\n",
    "    a = sin(dlat / 2)**2 + cos(lat1) * cos(lat2) * sin(dlon / 2)**2\n",
    "    c = 2 * atan2(sqrt(a), sqrt(1 - a))\n",
    "\n",
    "    distance = R * c\n",
    "    return distance\n",
    "\n",
    "# Agregar Posición del Ratón para obtener coordenadas\n",
    "formatter = \"function(num) {return L.Util.formatNum(num, 5);};\"\n",
    "mouse_position = MousePosition(\n",
    "    position='topright',\n",
    "    separator=' Long: ',\n",
    "    empty_string='NaN',\n",
    "    lng_first=False,\n",
    "    num_digits=20,\n",
    "    prefix='Lat:',\n",
    "    lat_formatter=formatter,\n",
    "    lng_formatter=formatter,\n",
    ")\n",
    "\n",
    "site_map.add_child(mouse_position)\n",
    "\n",
    "# Coordenadas de los puntos de costa más cercanos a cada sitio de lanzamiento\n",
    "coastline_points = {\n",
    "    'CCAFS LC-40': [28.56342, -80.5680],\n",
    "    'CCAFS SLC-40': [28.56342, -80.5680],\n",
    "    'KSC LC-39A': [28.58333, -80.58333],\n",
    "    'VAFB SLC-4E': [34.63533, -120.62492]\n",
    "}"
   ]
  },
  {
   "cell_type": "code",
   "execution_count": 10,
   "id": "67f7caa4",
   "metadata": {},
   "outputs": [
    {
     "name": "stdout",
     "output_type": "stream",
     "text": [
      "Análisis completado. Los mapas se han guardado como:\n",
      "1. task1_launch_sites.html - Sitios de lanzamiento\n",
      "2. task2_launch_outcomes.html - Resultados de lanzamientos\n",
      "3. spacex_launch_sites_analysis.html - Análisis completo con distancias\n"
     ]
    }
   ],
   "source": [
    "# Para cada sitio de lanzamiento, calcular distancia a la costa y agregar marcadores\n",
    "for index, site in launch_sites_df.iterrows():\n",
    "    site_name = site['Launch Site']\n",
    "    site_lat = site['Lat']\n",
    "    site_lon = site['Long']\n",
    "    coastline_lat, coastline_lon = coastline_points[site_name]\n",
    "    \n",
    "    # Calcular distancia\n",
    "    distance = calculate_distance(site_lat, site_lon, coastline_lat, coastline_lon)\n",
    "    \n",
    "    # Crear marcador para el punto de costa\n",
    "    distance_marker = folium.Marker(\n",
    "        [coastline_lat, coastline_lon],\n",
    "        icon=DivIcon(\n",
    "            icon_size=(20,20),\n",
    "            icon_anchor=(0,0),\n",
    "            html=f'<div style=\"font-size: 12; color:#d35400;\"><b>{distance:.2f} KM</b></div>'\n",
    "        )\n",
    "    )\n",
    "    \n",
    "    # Dibujar una línea entre el sitio de lanzamiento y la costa\n",
    "    lines = folium.PolyLine(\n",
    "        locations=[[site_lat, site_lon], [coastline_lat, coastline_lon]],\n",
    "        weight=1\n",
    "    )\n",
    "    \n",
    "    site_map.add_child(distance_marker)\n",
    "    site_map.add_child(lines)\n",
    "\n",
    "# Guardar el mapa final con todas las visualizaciones\n",
    "site_map.save('spacex_launch_sites_analysis.html')\n",
    "\n",
    "print(\"Análisis completado. Los mapas se han guardado como:\")\n",
    "print(\"1. task1_launch_sites.html - Sitios de lanzamiento\")\n",
    "print(\"2. task2_launch_outcomes.html - Resultados de lanzamientos\")\n",
    "print(\"3. spacex_launch_sites_analysis.html - Análisis completo con distancias\")"
   ]
  }
 ],
 "metadata": {
  "kernelspec": {
   "display_name": "Python 3",
   "language": "python",
   "name": "python3"
  },
  "language_info": {
   "codemirror_mode": {
    "name": "ipython",
    "version": 3
   },
   "file_extension": ".py",
   "mimetype": "text/x-python",
   "name": "python",
   "nbconvert_exporter": "python",
   "pygments_lexer": "ipython3",
   "version": "3.11.5"
  }
 },
 "nbformat": 4,
 "nbformat_minor": 5
}
